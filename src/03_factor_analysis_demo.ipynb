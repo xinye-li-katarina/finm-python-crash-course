{
 "cells": [
  {
   "cell_type": "markdown",
   "metadata": {},
   "source": [
    "# 3.5 Factor Analysis on Financial and Economic Time Series\n",
    "\n",
    "Factor Analysis and Principal Component Analysis on Financial and Economic Time Series"
   ]
  },
  {
   "cell_type": "code",
   "execution_count": null,
   "metadata": {},
   "outputs": [],
   "source": [
    "# If you're running this on Colab, make sure to install the following packages using pip.\n",
    "# On you're own computer, I recommend using conda or mamba.\n",
    "\n",
    "# !pip install pandas-datareader\n",
    "# !pip install yfinance\n",
    "\n",
    "# !conda install pandas-datareader\n",
    "# !conda install yfinance"
   ]
  },
  {
   "cell_type": "code",
   "execution_count": 2,
   "metadata": {},
   "outputs": [],
   "source": [
    "import numpy as np\n",
    "import pandas as pd\n",
    "from matplotlib import pyplot as plt\n",
    "\n",
    "import yfinance as yf\n",
    "import pandas_datareader as pdr\n",
    "import sklearn.decomposition\n",
    "import statsmodels.multivariate.pca"
   ]
  },
  {
   "cell_type": "code",
   "execution_count": 3,
   "metadata": {},
   "outputs": [],
   "source": [
    "import config\n",
    "DATA_DIR = config.DATA_DIR"
   ]
  },
  {
   "cell_type": "markdown",
   "metadata": {},
   "source": [
    "## Downloading macroeconomic and financial data from FRED"
   ]
  },
  {
   "cell_type": "code",
   "execution_count": 4,
   "metadata": {},
   "outputs": [],
   "source": [
    "fred_series_long_names = {\n",
    "    'BAMLH0A0HYM2': 'ICE BofA US High Yield Index Option-Adjusted Spread',\n",
    "    'NASDAQCOM': 'NASDAQ Composite Index',\n",
    "    'RIFSPPFAAD90NB': '90-Day AA Financial Commercial Paper Interest Rate',\n",
    "    'TB3MS': '3-Month Treasury Bill Secondary Market Rate',\n",
    "    'DGS10': 'Market Yield on U.S. Treasury Securities at 10-Year Constant Maturity',\n",
    "    'VIXCLS': 'CBOE Volatility Index: VIX',\n",
    "}"
   ]
  },
  {
   "cell_type": "code",
   "execution_count": 5,
   "metadata": {},
   "outputs": [],
   "source": [
    "fred_series_short_names = {\n",
    "    'BAMLH0A0HYM2': 'High Yield Index OAS',\n",
    "    'NASDAQCOM': 'NASDAQ',\n",
    "    'RIFSPPFAAD90NB': '90-Day AA Fin CP',\n",
    "    'TB3MS': '3-Month T-Bill',\n",
    "    'DGS10': '10-Year Treasury',\n",
    "    'VIXCLS': 'VIX',\n",
    "}"
   ]
  },
  {
   "cell_type": "code",
   "execution_count": 6,
   "metadata": {},
   "outputs": [],
   "source": [
    "start_date = pd.to_datetime('1980-01-01') \n",
    "end_date = pd.to_datetime('today') "
   ]
  },
  {
   "cell_type": "code",
   "execution_count": 7,
   "metadata": {},
   "outputs": [],
   "source": [
    "df = pdr.get_data_fred(fred_series_short_names.keys(), start=start_date, end=end_date)"
   ]
  },
  {
   "cell_type": "code",
   "execution_count": 9,
   "metadata": {},
   "outputs": [
    {
     "data": {
      "text/plain": [
       "dict_keys(['BAMLH0A0HYM2', 'NASDAQCOM', 'RIFSPPFAAD90NB', 'TB3MS', 'DGS10', 'VIXCLS'])"
      ]
     },
     "execution_count": 9,
     "metadata": {},
     "output_type": "execute_result"
    }
   ],
   "source": [
    "fred_series_short_names.keys()"
   ]
  },
  {
   "cell_type": "code",
   "execution_count": 8,
   "metadata": {},
   "outputs": [
    {
     "data": {
      "text/html": [
       "<div>\n",
       "<style scoped>\n",
       "    .dataframe tbody tr th:only-of-type {\n",
       "        vertical-align: middle;\n",
       "    }\n",
       "\n",
       "    .dataframe tbody tr th {\n",
       "        vertical-align: top;\n",
       "    }\n",
       "\n",
       "    .dataframe thead th {\n",
       "        text-align: right;\n",
       "    }\n",
       "</style>\n",
       "<table border=\"1\" class=\"dataframe\">\n",
       "  <thead>\n",
       "    <tr style=\"text-align: right;\">\n",
       "      <th></th>\n",
       "      <th>BAMLH0A0HYM2</th>\n",
       "      <th>NASDAQCOM</th>\n",
       "      <th>RIFSPPFAAD90NB</th>\n",
       "      <th>TB3MS</th>\n",
       "      <th>DGS10</th>\n",
       "      <th>VIXCLS</th>\n",
       "    </tr>\n",
       "    <tr>\n",
       "      <th>DATE</th>\n",
       "      <th></th>\n",
       "      <th></th>\n",
       "      <th></th>\n",
       "      <th></th>\n",
       "      <th></th>\n",
       "      <th></th>\n",
       "    </tr>\n",
       "  </thead>\n",
       "  <tbody>\n",
       "    <tr>\n",
       "      <th>1980-01-01</th>\n",
       "      <td>NaN</td>\n",
       "      <td>NaN</td>\n",
       "      <td>NaN</td>\n",
       "      <td>12.0</td>\n",
       "      <td>NaN</td>\n",
       "      <td>NaN</td>\n",
       "    </tr>\n",
       "    <tr>\n",
       "      <th>1980-01-02</th>\n",
       "      <td>NaN</td>\n",
       "      <td>148.17</td>\n",
       "      <td>NaN</td>\n",
       "      <td>NaN</td>\n",
       "      <td>10.50</td>\n",
       "      <td>NaN</td>\n",
       "    </tr>\n",
       "    <tr>\n",
       "      <th>1980-01-03</th>\n",
       "      <td>NaN</td>\n",
       "      <td>145.97</td>\n",
       "      <td>NaN</td>\n",
       "      <td>NaN</td>\n",
       "      <td>10.60</td>\n",
       "      <td>NaN</td>\n",
       "    </tr>\n",
       "    <tr>\n",
       "      <th>1980-01-04</th>\n",
       "      <td>NaN</td>\n",
       "      <td>148.02</td>\n",
       "      <td>NaN</td>\n",
       "      <td>NaN</td>\n",
       "      <td>10.66</td>\n",
       "      <td>NaN</td>\n",
       "    </tr>\n",
       "    <tr>\n",
       "      <th>1980-01-07</th>\n",
       "      <td>NaN</td>\n",
       "      <td>148.62</td>\n",
       "      <td>NaN</td>\n",
       "      <td>NaN</td>\n",
       "      <td>10.63</td>\n",
       "      <td>NaN</td>\n",
       "    </tr>\n",
       "    <tr>\n",
       "      <th>...</th>\n",
       "      <td>...</td>\n",
       "      <td>...</td>\n",
       "      <td>...</td>\n",
       "      <td>...</td>\n",
       "      <td>...</td>\n",
       "      <td>...</td>\n",
       "    </tr>\n",
       "    <tr>\n",
       "      <th>2024-08-02</th>\n",
       "      <td>3.72</td>\n",
       "      <td>16776.16</td>\n",
       "      <td>NaN</td>\n",
       "      <td>NaN</td>\n",
       "      <td>3.80</td>\n",
       "      <td>23.39</td>\n",
       "    </tr>\n",
       "    <tr>\n",
       "      <th>2024-08-05</th>\n",
       "      <td>3.93</td>\n",
       "      <td>16200.08</td>\n",
       "      <td>NaN</td>\n",
       "      <td>NaN</td>\n",
       "      <td>3.78</td>\n",
       "      <td>38.57</td>\n",
       "    </tr>\n",
       "    <tr>\n",
       "      <th>2024-08-06</th>\n",
       "      <td>NaN</td>\n",
       "      <td>16366.85</td>\n",
       "      <td>NaN</td>\n",
       "      <td>NaN</td>\n",
       "      <td>3.90</td>\n",
       "      <td>27.71</td>\n",
       "    </tr>\n",
       "    <tr>\n",
       "      <th>2024-08-07</th>\n",
       "      <td>3.57</td>\n",
       "      <td>16195.81</td>\n",
       "      <td>NaN</td>\n",
       "      <td>NaN</td>\n",
       "      <td>3.96</td>\n",
       "      <td>27.85</td>\n",
       "    </tr>\n",
       "    <tr>\n",
       "      <th>2024-08-08</th>\n",
       "      <td>3.48</td>\n",
       "      <td>16660.02</td>\n",
       "      <td>5.16</td>\n",
       "      <td>NaN</td>\n",
       "      <td>3.99</td>\n",
       "      <td>23.79</td>\n",
       "    </tr>\n",
       "  </tbody>\n",
       "</table>\n",
       "<p>11882 rows × 6 columns</p>\n",
       "</div>"
      ],
      "text/plain": [
       "            BAMLH0A0HYM2  NASDAQCOM  RIFSPPFAAD90NB  TB3MS  DGS10  VIXCLS\n",
       "DATE                                                                     \n",
       "1980-01-01           NaN        NaN             NaN   12.0    NaN     NaN\n",
       "1980-01-02           NaN     148.17             NaN    NaN  10.50     NaN\n",
       "1980-01-03           NaN     145.97             NaN    NaN  10.60     NaN\n",
       "1980-01-04           NaN     148.02             NaN    NaN  10.66     NaN\n",
       "1980-01-07           NaN     148.62             NaN    NaN  10.63     NaN\n",
       "...                  ...        ...             ...    ...    ...     ...\n",
       "2024-08-02          3.72   16776.16             NaN    NaN   3.80   23.39\n",
       "2024-08-05          3.93   16200.08             NaN    NaN   3.78   38.57\n",
       "2024-08-06           NaN   16366.85             NaN    NaN   3.90   27.71\n",
       "2024-08-07          3.57   16195.81             NaN    NaN   3.96   27.85\n",
       "2024-08-08          3.48   16660.02            5.16    NaN   3.99   23.79\n",
       "\n",
       "[11882 rows x 6 columns]"
      ]
     },
     "execution_count": 8,
     "metadata": {},
     "output_type": "execute_result"
    }
   ],
   "source": [
    "df"
   ]
  },
  {
   "cell_type": "markdown",
   "metadata": {},
   "source": [
    "First, an aside about reading and writing data to disk."
   ]
  },
  {
   "cell_type": "code",
   "execution_count": 10,
   "metadata": {},
   "outputs": [
    {
     "data": {
      "text/plain": [
       "PosixPath('/Users/wenlan/Documents/GitHub/finm-python-crash-course/data')"
      ]
     },
     "execution_count": 10,
     "metadata": {},
     "output_type": "execute_result"
    }
   ],
   "source": [
    "DATA_DIR"
   ]
  },
  {
   "cell_type": "code",
   "execution_count": 11,
   "metadata": {},
   "outputs": [],
   "source": [
    "df.to_csv(DATA_DIR / 'fred_panel.csv')"
   ]
  },
  {
   "cell_type": "code",
   "execution_count": 12,
   "metadata": {},
   "outputs": [],
   "source": [
    "dff = pd.read_csv(DATA_DIR / 'fred_panel.csv')"
   ]
  },
  {
   "cell_type": "code",
   "execution_count": 13,
   "metadata": {},
   "outputs": [
    {
     "name": "stdout",
     "output_type": "stream",
     "text": [
      "<class 'pandas.core.frame.DataFrame'>\n",
      "RangeIndex: 11882 entries, 0 to 11881\n",
      "Data columns (total 7 columns):\n",
      " #   Column          Non-Null Count  Dtype  \n",
      "---  ------          --------------  -----  \n",
      " 0   DATE            11882 non-null  object \n",
      " 1   BAMLH0A0HYM2    7206 non-null   float64\n",
      " 2   NASDAQCOM       11246 non-null  float64\n",
      " 3   RIFSPPFAAD90NB  6468 non-null   float64\n",
      " 4   TB3MS           535 non-null    float64\n",
      " 5   DGS10           11153 non-null  float64\n",
      " 6   VIXCLS          8732 non-null   float64\n",
      "dtypes: float64(6), object(1)\n",
      "memory usage: 649.9+ KB\n"
     ]
    }
   ],
   "source": [
    "dff.info()"
   ]
  },
  {
   "cell_type": "code",
   "execution_count": 14,
   "metadata": {},
   "outputs": [],
   "source": [
    "dff = pd.read_csv(DATA_DIR / 'fred_panel.csv', parse_dates=['DATE'])"
   ]
  },
  {
   "cell_type": "code",
   "execution_count": 15,
   "metadata": {},
   "outputs": [
    {
     "name": "stdout",
     "output_type": "stream",
     "text": [
      "<class 'pandas.core.frame.DataFrame'>\n",
      "RangeIndex: 11882 entries, 0 to 11881\n",
      "Data columns (total 7 columns):\n",
      " #   Column          Non-Null Count  Dtype         \n",
      "---  ------          --------------  -----         \n",
      " 0   DATE            11882 non-null  datetime64[ns]\n",
      " 1   BAMLH0A0HYM2    7206 non-null   float64       \n",
      " 2   NASDAQCOM       11246 non-null  float64       \n",
      " 3   RIFSPPFAAD90NB  6468 non-null   float64       \n",
      " 4   TB3MS           535 non-null    float64       \n",
      " 5   DGS10           11153 non-null  float64       \n",
      " 6   VIXCLS          8732 non-null   float64       \n",
      "dtypes: datetime64[ns](1), float64(6)\n",
      "memory usage: 649.9 KB\n"
     ]
    }
   ],
   "source": [
    "dff.info()"
   ]
  },
  {
   "cell_type": "code",
   "execution_count": 16,
   "metadata": {},
   "outputs": [],
   "source": [
    "dff = dff.set_index('DATE')"
   ]
  },
  {
   "cell_type": "code",
   "execution_count": 17,
   "metadata": {},
   "outputs": [],
   "source": [
    "df.to_parquet(DATA_DIR / 'fred_panel.parquet')"
   ]
  },
  {
   "cell_type": "code",
   "execution_count": 18,
   "metadata": {},
   "outputs": [],
   "source": [
    "df = pd.read_parquet(DATA_DIR / 'fred_panel.parquet')"
   ]
  },
  {
   "cell_type": "code",
   "execution_count": 19,
   "metadata": {},
   "outputs": [
    {
     "name": "stdout",
     "output_type": "stream",
     "text": [
      "<class 'pandas.core.frame.DataFrame'>\n",
      "DatetimeIndex: 11882 entries, 1980-01-01 to 2024-08-08\n",
      "Data columns (total 6 columns):\n",
      " #   Column          Non-Null Count  Dtype  \n",
      "---  ------          --------------  -----  \n",
      " 0   BAMLH0A0HYM2    7206 non-null   float64\n",
      " 1   NASDAQCOM       11246 non-null  float64\n",
      " 2   RIFSPPFAAD90NB  6468 non-null   float64\n",
      " 3   TB3MS           535 non-null    float64\n",
      " 4   DGS10           11153 non-null  float64\n",
      " 5   VIXCLS          8732 non-null   float64\n",
      "dtypes: float64(6)\n",
      "memory usage: 649.8 KB\n"
     ]
    }
   ],
   "source": [
    "df.info()"
   ]
  },
  {
   "cell_type": "code",
   "execution_count": 20,
   "metadata": {},
   "outputs": [
    {
     "data": {
      "text/html": [
       "<div>\n",
       "<style scoped>\n",
       "    .dataframe tbody tr th:only-of-type {\n",
       "        vertical-align: middle;\n",
       "    }\n",
       "\n",
       "    .dataframe tbody tr th {\n",
       "        vertical-align: top;\n",
       "    }\n",
       "\n",
       "    .dataframe thead th {\n",
       "        text-align: right;\n",
       "    }\n",
       "</style>\n",
       "<table border=\"1\" class=\"dataframe\">\n",
       "  <thead>\n",
       "    <tr style=\"text-align: right;\">\n",
       "      <th></th>\n",
       "      <th>BAMLH0A0HYM2</th>\n",
       "      <th>NASDAQCOM</th>\n",
       "      <th>RIFSPPFAAD90NB</th>\n",
       "      <th>TB3MS</th>\n",
       "      <th>DGS10</th>\n",
       "      <th>VIXCLS</th>\n",
       "    </tr>\n",
       "    <tr>\n",
       "      <th>DATE</th>\n",
       "      <th></th>\n",
       "      <th></th>\n",
       "      <th></th>\n",
       "      <th></th>\n",
       "      <th></th>\n",
       "      <th></th>\n",
       "    </tr>\n",
       "  </thead>\n",
       "  <tbody>\n",
       "    <tr>\n",
       "      <th>1980-01-01</th>\n",
       "      <td>NaN</td>\n",
       "      <td>NaN</td>\n",
       "      <td>NaN</td>\n",
       "      <td>12.0</td>\n",
       "      <td>NaN</td>\n",
       "      <td>NaN</td>\n",
       "    </tr>\n",
       "    <tr>\n",
       "      <th>1980-01-02</th>\n",
       "      <td>NaN</td>\n",
       "      <td>148.17</td>\n",
       "      <td>NaN</td>\n",
       "      <td>NaN</td>\n",
       "      <td>10.50</td>\n",
       "      <td>NaN</td>\n",
       "    </tr>\n",
       "    <tr>\n",
       "      <th>1980-01-03</th>\n",
       "      <td>NaN</td>\n",
       "      <td>145.97</td>\n",
       "      <td>NaN</td>\n",
       "      <td>NaN</td>\n",
       "      <td>10.60</td>\n",
       "      <td>NaN</td>\n",
       "    </tr>\n",
       "    <tr>\n",
       "      <th>1980-01-04</th>\n",
       "      <td>NaN</td>\n",
       "      <td>148.02</td>\n",
       "      <td>NaN</td>\n",
       "      <td>NaN</td>\n",
       "      <td>10.66</td>\n",
       "      <td>NaN</td>\n",
       "    </tr>\n",
       "    <tr>\n",
       "      <th>1980-01-07</th>\n",
       "      <td>NaN</td>\n",
       "      <td>148.62</td>\n",
       "      <td>NaN</td>\n",
       "      <td>NaN</td>\n",
       "      <td>10.63</td>\n",
       "      <td>NaN</td>\n",
       "    </tr>\n",
       "    <tr>\n",
       "      <th>...</th>\n",
       "      <td>...</td>\n",
       "      <td>...</td>\n",
       "      <td>...</td>\n",
       "      <td>...</td>\n",
       "      <td>...</td>\n",
       "      <td>...</td>\n",
       "    </tr>\n",
       "    <tr>\n",
       "      <th>2024-08-02</th>\n",
       "      <td>3.72</td>\n",
       "      <td>16776.16</td>\n",
       "      <td>NaN</td>\n",
       "      <td>NaN</td>\n",
       "      <td>3.80</td>\n",
       "      <td>23.39</td>\n",
       "    </tr>\n",
       "    <tr>\n",
       "      <th>2024-08-05</th>\n",
       "      <td>3.93</td>\n",
       "      <td>16200.08</td>\n",
       "      <td>NaN</td>\n",
       "      <td>NaN</td>\n",
       "      <td>3.78</td>\n",
       "      <td>38.57</td>\n",
       "    </tr>\n",
       "    <tr>\n",
       "      <th>2024-08-06</th>\n",
       "      <td>NaN</td>\n",
       "      <td>16366.85</td>\n",
       "      <td>NaN</td>\n",
       "      <td>NaN</td>\n",
       "      <td>3.90</td>\n",
       "      <td>27.71</td>\n",
       "    </tr>\n",
       "    <tr>\n",
       "      <th>2024-08-07</th>\n",
       "      <td>3.57</td>\n",
       "      <td>16195.81</td>\n",
       "      <td>NaN</td>\n",
       "      <td>NaN</td>\n",
       "      <td>3.96</td>\n",
       "      <td>27.85</td>\n",
       "    </tr>\n",
       "    <tr>\n",
       "      <th>2024-08-08</th>\n",
       "      <td>3.48</td>\n",
       "      <td>16660.02</td>\n",
       "      <td>5.16</td>\n",
       "      <td>NaN</td>\n",
       "      <td>3.99</td>\n",
       "      <td>23.79</td>\n",
       "    </tr>\n",
       "  </tbody>\n",
       "</table>\n",
       "<p>11882 rows × 6 columns</p>\n",
       "</div>"
      ],
      "text/plain": [
       "            BAMLH0A0HYM2  NASDAQCOM  RIFSPPFAAD90NB  TB3MS  DGS10  VIXCLS\n",
       "DATE                                                                     \n",
       "1980-01-01           NaN        NaN             NaN   12.0    NaN     NaN\n",
       "1980-01-02           NaN     148.17             NaN    NaN  10.50     NaN\n",
       "1980-01-03           NaN     145.97             NaN    NaN  10.60     NaN\n",
       "1980-01-04           NaN     148.02             NaN    NaN  10.66     NaN\n",
       "1980-01-07           NaN     148.62             NaN    NaN  10.63     NaN\n",
       "...                  ...        ...             ...    ...    ...     ...\n",
       "2024-08-02          3.72   16776.16             NaN    NaN   3.80   23.39\n",
       "2024-08-05          3.93   16200.08             NaN    NaN   3.78   38.57\n",
       "2024-08-06           NaN   16366.85             NaN    NaN   3.90   27.71\n",
       "2024-08-07          3.57   16195.81             NaN    NaN   3.96   27.85\n",
       "2024-08-08          3.48   16660.02            5.16    NaN   3.99   23.79\n",
       "\n",
       "[11882 rows x 6 columns]"
      ]
     },
     "execution_count": 20,
     "metadata": {},
     "output_type": "execute_result"
    }
   ],
   "source": [
    "df"
   ]
  },
  {
   "cell_type": "markdown",
   "metadata": {},
   "source": [
    "## Cleaning Data\n"
   ]
  },
  {
   "cell_type": "code",
   "execution_count": 21,
   "metadata": {},
   "outputs": [
    {
     "data": {
      "text/html": [
       "<div>\n",
       "<style scoped>\n",
       "    .dataframe tbody tr th:only-of-type {\n",
       "        vertical-align: middle;\n",
       "    }\n",
       "\n",
       "    .dataframe tbody tr th {\n",
       "        vertical-align: top;\n",
       "    }\n",
       "\n",
       "    .dataframe thead th {\n",
       "        text-align: right;\n",
       "    }\n",
       "</style>\n",
       "<table border=\"1\" class=\"dataframe\">\n",
       "  <thead>\n",
       "    <tr style=\"text-align: right;\">\n",
       "      <th></th>\n",
       "      <th>High Yield Index OAS</th>\n",
       "      <th>NASDAQ</th>\n",
       "      <th>90-Day AA Fin CP</th>\n",
       "      <th>3-Month T-Bill</th>\n",
       "      <th>10-Year Treasury</th>\n",
       "      <th>VIX</th>\n",
       "    </tr>\n",
       "    <tr>\n",
       "      <th>DATE</th>\n",
       "      <th></th>\n",
       "      <th></th>\n",
       "      <th></th>\n",
       "      <th></th>\n",
       "      <th></th>\n",
       "      <th></th>\n",
       "    </tr>\n",
       "  </thead>\n",
       "  <tbody>\n",
       "    <tr>\n",
       "      <th>1980-01-01</th>\n",
       "      <td>NaN</td>\n",
       "      <td>NaN</td>\n",
       "      <td>NaN</td>\n",
       "      <td>12.0</td>\n",
       "      <td>NaN</td>\n",
       "      <td>NaN</td>\n",
       "    </tr>\n",
       "    <tr>\n",
       "      <th>1980-01-02</th>\n",
       "      <td>NaN</td>\n",
       "      <td>148.17</td>\n",
       "      <td>NaN</td>\n",
       "      <td>NaN</td>\n",
       "      <td>10.50</td>\n",
       "      <td>NaN</td>\n",
       "    </tr>\n",
       "    <tr>\n",
       "      <th>1980-01-03</th>\n",
       "      <td>NaN</td>\n",
       "      <td>145.97</td>\n",
       "      <td>NaN</td>\n",
       "      <td>NaN</td>\n",
       "      <td>10.60</td>\n",
       "      <td>NaN</td>\n",
       "    </tr>\n",
       "    <tr>\n",
       "      <th>1980-01-04</th>\n",
       "      <td>NaN</td>\n",
       "      <td>148.02</td>\n",
       "      <td>NaN</td>\n",
       "      <td>NaN</td>\n",
       "      <td>10.66</td>\n",
       "      <td>NaN</td>\n",
       "    </tr>\n",
       "    <tr>\n",
       "      <th>1980-01-07</th>\n",
       "      <td>NaN</td>\n",
       "      <td>148.62</td>\n",
       "      <td>NaN</td>\n",
       "      <td>NaN</td>\n",
       "      <td>10.63</td>\n",
       "      <td>NaN</td>\n",
       "    </tr>\n",
       "    <tr>\n",
       "      <th>...</th>\n",
       "      <td>...</td>\n",
       "      <td>...</td>\n",
       "      <td>...</td>\n",
       "      <td>...</td>\n",
       "      <td>...</td>\n",
       "      <td>...</td>\n",
       "    </tr>\n",
       "    <tr>\n",
       "      <th>2024-08-02</th>\n",
       "      <td>3.72</td>\n",
       "      <td>16776.16</td>\n",
       "      <td>NaN</td>\n",
       "      <td>NaN</td>\n",
       "      <td>3.80</td>\n",
       "      <td>23.39</td>\n",
       "    </tr>\n",
       "    <tr>\n",
       "      <th>2024-08-05</th>\n",
       "      <td>3.93</td>\n",
       "      <td>16200.08</td>\n",
       "      <td>NaN</td>\n",
       "      <td>NaN</td>\n",
       "      <td>3.78</td>\n",
       "      <td>38.57</td>\n",
       "    </tr>\n",
       "    <tr>\n",
       "      <th>2024-08-06</th>\n",
       "      <td>NaN</td>\n",
       "      <td>16366.85</td>\n",
       "      <td>NaN</td>\n",
       "      <td>NaN</td>\n",
       "      <td>3.90</td>\n",
       "      <td>27.71</td>\n",
       "    </tr>\n",
       "    <tr>\n",
       "      <th>2024-08-07</th>\n",
       "      <td>3.57</td>\n",
       "      <td>16195.81</td>\n",
       "      <td>NaN</td>\n",
       "      <td>NaN</td>\n",
       "      <td>3.96</td>\n",
       "      <td>27.85</td>\n",
       "    </tr>\n",
       "    <tr>\n",
       "      <th>2024-08-08</th>\n",
       "      <td>3.48</td>\n",
       "      <td>16660.02</td>\n",
       "      <td>5.16</td>\n",
       "      <td>NaN</td>\n",
       "      <td>3.99</td>\n",
       "      <td>23.79</td>\n",
       "    </tr>\n",
       "  </tbody>\n",
       "</table>\n",
       "<p>11882 rows × 6 columns</p>\n",
       "</div>"
      ],
      "text/plain": [
       "            High Yield Index OAS    NASDAQ  90-Day AA Fin CP  3-Month T-Bill  \\\n",
       "DATE                                                                           \n",
       "1980-01-01                   NaN       NaN               NaN            12.0   \n",
       "1980-01-02                   NaN    148.17               NaN             NaN   \n",
       "1980-01-03                   NaN    145.97               NaN             NaN   \n",
       "1980-01-04                   NaN    148.02               NaN             NaN   \n",
       "1980-01-07                   NaN    148.62               NaN             NaN   \n",
       "...                          ...       ...               ...             ...   \n",
       "2024-08-02                  3.72  16776.16               NaN             NaN   \n",
       "2024-08-05                  3.93  16200.08               NaN             NaN   \n",
       "2024-08-06                   NaN  16366.85               NaN             NaN   \n",
       "2024-08-07                  3.57  16195.81               NaN             NaN   \n",
       "2024-08-08                  3.48  16660.02              5.16             NaN   \n",
       "\n",
       "            10-Year Treasury    VIX  \n",
       "DATE                                 \n",
       "1980-01-01               NaN    NaN  \n",
       "1980-01-02             10.50    NaN  \n",
       "1980-01-03             10.60    NaN  \n",
       "1980-01-04             10.66    NaN  \n",
       "1980-01-07             10.63    NaN  \n",
       "...                      ...    ...  \n",
       "2024-08-02              3.80  23.39  \n",
       "2024-08-05              3.78  38.57  \n",
       "2024-08-06              3.90  27.71  \n",
       "2024-08-07              3.96  27.85  \n",
       "2024-08-08              3.99  23.79  \n",
       "\n",
       "[11882 rows x 6 columns]"
      ]
     },
     "execution_count": 21,
     "metadata": {},
     "output_type": "execute_result"
    }
   ],
   "source": [
    "df = dff.rename(columns=fred_series_short_names)\n",
    "df"
   ]
  },
  {
   "cell_type": "markdown",
   "metadata": {},
   "source": [
    "Balanced panel? Mixed frequencies?"
   ]
  },
  {
   "cell_type": "code",
   "execution_count": 22,
   "metadata": {},
   "outputs": [
    {
     "data": {
      "text/plain": [
       "DATE\n",
       "1980-01-01    12.00\n",
       "1980-02-01    12.86\n",
       "1980-03-01    15.20\n",
       "1980-04-01    13.20\n",
       "1980-05-01     8.58\n",
       "              ...  \n",
       "2024-03-01     5.24\n",
       "2024-04-01     5.24\n",
       "2024-05-01     5.25\n",
       "2024-06-01     5.24\n",
       "2024-07-01     5.20\n",
       "Name: 3-Month T-Bill, Length: 535, dtype: float64"
      ]
     },
     "execution_count": 22,
     "metadata": {},
     "output_type": "execute_result"
    }
   ],
   "source": [
    "df['3-Month T-Bill'].dropna()"
   ]
  },
  {
   "cell_type": "markdown",
   "metadata": {},
   "source": [
    "Find a daily version of this series. See here: https://fred.stlouisfed.org/categories/22\n",
    "\n",
    "We will end up using this series: https://fred.stlouisfed.org/series/DTB3"
   ]
  },
  {
   "cell_type": "code",
   "execution_count": 23,
   "metadata": {},
   "outputs": [],
   "source": [
    "fred_series_short_names = {\n",
    "    'BAMLH0A0HYM2': 'High Yield Index OAS',\n",
    "    'NASDAQCOM': 'NASDAQ',\n",
    "    'RIFSPPFAAD90NB': '90-Day AA Fin CP',\n",
    "    'DTB3': '3-Month T-Bill',\n",
    "    'DGS10': '10-Year Treasury',\n",
    "    'VIXCLS': 'VIX',\n",
    "}\n",
    "df = pdr.get_data_fred(fred_series_short_names.keys(), start=start_date, end=end_date)\n",
    "df = df.rename(columns=fred_series_short_names)"
   ]
  },
  {
   "cell_type": "code",
   "execution_count": 24,
   "metadata": {},
   "outputs": [
    {
     "data": {
      "text/html": [
       "<div>\n",
       "<style scoped>\n",
       "    .dataframe tbody tr th:only-of-type {\n",
       "        vertical-align: middle;\n",
       "    }\n",
       "\n",
       "    .dataframe tbody tr th {\n",
       "        vertical-align: top;\n",
       "    }\n",
       "\n",
       "    .dataframe thead th {\n",
       "        text-align: right;\n",
       "    }\n",
       "</style>\n",
       "<table border=\"1\" class=\"dataframe\">\n",
       "  <thead>\n",
       "    <tr style=\"text-align: right;\">\n",
       "      <th></th>\n",
       "      <th>High Yield Index OAS</th>\n",
       "      <th>NASDAQ</th>\n",
       "      <th>90-Day AA Fin CP</th>\n",
       "      <th>3-Month T-Bill</th>\n",
       "      <th>10-Year Treasury</th>\n",
       "      <th>VIX</th>\n",
       "    </tr>\n",
       "    <tr>\n",
       "      <th>DATE</th>\n",
       "      <th></th>\n",
       "      <th></th>\n",
       "      <th></th>\n",
       "      <th></th>\n",
       "      <th></th>\n",
       "      <th></th>\n",
       "    </tr>\n",
       "  </thead>\n",
       "  <tbody>\n",
       "    <tr>\n",
       "      <th>1980-01-01</th>\n",
       "      <td>NaN</td>\n",
       "      <td>NaN</td>\n",
       "      <td>NaN</td>\n",
       "      <td>NaN</td>\n",
       "      <td>NaN</td>\n",
       "      <td>NaN</td>\n",
       "    </tr>\n",
       "    <tr>\n",
       "      <th>1980-01-02</th>\n",
       "      <td>NaN</td>\n",
       "      <td>148.17</td>\n",
       "      <td>NaN</td>\n",
       "      <td>12.17</td>\n",
       "      <td>10.50</td>\n",
       "      <td>NaN</td>\n",
       "    </tr>\n",
       "    <tr>\n",
       "      <th>1980-01-03</th>\n",
       "      <td>NaN</td>\n",
       "      <td>145.97</td>\n",
       "      <td>NaN</td>\n",
       "      <td>12.10</td>\n",
       "      <td>10.60</td>\n",
       "      <td>NaN</td>\n",
       "    </tr>\n",
       "    <tr>\n",
       "      <th>1980-01-04</th>\n",
       "      <td>NaN</td>\n",
       "      <td>148.02</td>\n",
       "      <td>NaN</td>\n",
       "      <td>12.10</td>\n",
       "      <td>10.66</td>\n",
       "      <td>NaN</td>\n",
       "    </tr>\n",
       "    <tr>\n",
       "      <th>1980-01-07</th>\n",
       "      <td>NaN</td>\n",
       "      <td>148.62</td>\n",
       "      <td>NaN</td>\n",
       "      <td>11.86</td>\n",
       "      <td>10.63</td>\n",
       "      <td>NaN</td>\n",
       "    </tr>\n",
       "    <tr>\n",
       "      <th>...</th>\n",
       "      <td>...</td>\n",
       "      <td>...</td>\n",
       "      <td>...</td>\n",
       "      <td>...</td>\n",
       "      <td>...</td>\n",
       "      <td>...</td>\n",
       "    </tr>\n",
       "    <tr>\n",
       "      <th>2024-08-02</th>\n",
       "      <td>3.72</td>\n",
       "      <td>16776.16</td>\n",
       "      <td>NaN</td>\n",
       "      <td>5.05</td>\n",
       "      <td>3.80</td>\n",
       "      <td>23.39</td>\n",
       "    </tr>\n",
       "    <tr>\n",
       "      <th>2024-08-05</th>\n",
       "      <td>3.93</td>\n",
       "      <td>16200.08</td>\n",
       "      <td>NaN</td>\n",
       "      <td>5.09</td>\n",
       "      <td>3.78</td>\n",
       "      <td>38.57</td>\n",
       "    </tr>\n",
       "    <tr>\n",
       "      <th>2024-08-06</th>\n",
       "      <td>NaN</td>\n",
       "      <td>16366.85</td>\n",
       "      <td>NaN</td>\n",
       "      <td>5.09</td>\n",
       "      <td>3.90</td>\n",
       "      <td>27.71</td>\n",
       "    </tr>\n",
       "    <tr>\n",
       "      <th>2024-08-07</th>\n",
       "      <td>3.57</td>\n",
       "      <td>16195.81</td>\n",
       "      <td>NaN</td>\n",
       "      <td>5.09</td>\n",
       "      <td>3.96</td>\n",
       "      <td>27.85</td>\n",
       "    </tr>\n",
       "    <tr>\n",
       "      <th>2024-08-08</th>\n",
       "      <td>3.48</td>\n",
       "      <td>16660.02</td>\n",
       "      <td>5.16</td>\n",
       "      <td>5.09</td>\n",
       "      <td>3.99</td>\n",
       "      <td>23.79</td>\n",
       "    </tr>\n",
       "  </tbody>\n",
       "</table>\n",
       "<p>11731 rows × 6 columns</p>\n",
       "</div>"
      ],
      "text/plain": [
       "            High Yield Index OAS    NASDAQ  90-Day AA Fin CP  3-Month T-Bill  \\\n",
       "DATE                                                                           \n",
       "1980-01-01                   NaN       NaN               NaN             NaN   \n",
       "1980-01-02                   NaN    148.17               NaN           12.17   \n",
       "1980-01-03                   NaN    145.97               NaN           12.10   \n",
       "1980-01-04                   NaN    148.02               NaN           12.10   \n",
       "1980-01-07                   NaN    148.62               NaN           11.86   \n",
       "...                          ...       ...               ...             ...   \n",
       "2024-08-02                  3.72  16776.16               NaN            5.05   \n",
       "2024-08-05                  3.93  16200.08               NaN            5.09   \n",
       "2024-08-06                   NaN  16366.85               NaN            5.09   \n",
       "2024-08-07                  3.57  16195.81               NaN            5.09   \n",
       "2024-08-08                  3.48  16660.02              5.16            5.09   \n",
       "\n",
       "            10-Year Treasury    VIX  \n",
       "DATE                                 \n",
       "1980-01-01               NaN    NaN  \n",
       "1980-01-02             10.50    NaN  \n",
       "1980-01-03             10.60    NaN  \n",
       "1980-01-04             10.66    NaN  \n",
       "1980-01-07             10.63    NaN  \n",
       "...                      ...    ...  \n",
       "2024-08-02              3.80  23.39  \n",
       "2024-08-05              3.78  38.57  \n",
       "2024-08-06              3.90  27.71  \n",
       "2024-08-07              3.96  27.85  \n",
       "2024-08-08              3.99  23.79  \n",
       "\n",
       "[11731 rows x 6 columns]"
      ]
     },
     "execution_count": 24,
     "metadata": {},
     "output_type": "execute_result"
    }
   ],
   "source": [
    "df"
   ]
  },
  {
   "cell_type": "code",
   "execution_count": 25,
   "metadata": {},
   "outputs": [
    {
     "data": {
      "text/html": [
       "<div>\n",
       "<style scoped>\n",
       "    .dataframe tbody tr th:only-of-type {\n",
       "        vertical-align: middle;\n",
       "    }\n",
       "\n",
       "    .dataframe tbody tr th {\n",
       "        vertical-align: top;\n",
       "    }\n",
       "\n",
       "    .dataframe thead th {\n",
       "        text-align: right;\n",
       "    }\n",
       "</style>\n",
       "<table border=\"1\" class=\"dataframe\">\n",
       "  <thead>\n",
       "    <tr style=\"text-align: right;\">\n",
       "      <th></th>\n",
       "      <th>High Yield Index OAS</th>\n",
       "      <th>NASDAQ</th>\n",
       "      <th>90-Day AA Fin CP</th>\n",
       "      <th>3-Month T-Bill</th>\n",
       "      <th>10-Year Treasury</th>\n",
       "      <th>VIX</th>\n",
       "    </tr>\n",
       "    <tr>\n",
       "      <th>DATE</th>\n",
       "      <th></th>\n",
       "      <th></th>\n",
       "      <th></th>\n",
       "      <th></th>\n",
       "      <th></th>\n",
       "      <th></th>\n",
       "    </tr>\n",
       "  </thead>\n",
       "  <tbody>\n",
       "    <tr>\n",
       "      <th>1997-01-02</th>\n",
       "      <td>3.06</td>\n",
       "      <td>1280.70</td>\n",
       "      <td>5.35</td>\n",
       "      <td>5.05</td>\n",
       "      <td>6.54</td>\n",
       "      <td>21.14</td>\n",
       "    </tr>\n",
       "    <tr>\n",
       "      <th>1997-01-03</th>\n",
       "      <td>3.09</td>\n",
       "      <td>1310.68</td>\n",
       "      <td>5.35</td>\n",
       "      <td>5.04</td>\n",
       "      <td>6.52</td>\n",
       "      <td>19.13</td>\n",
       "    </tr>\n",
       "    <tr>\n",
       "      <th>1997-01-06</th>\n",
       "      <td>3.10</td>\n",
       "      <td>1316.40</td>\n",
       "      <td>5.34</td>\n",
       "      <td>5.05</td>\n",
       "      <td>6.54</td>\n",
       "      <td>19.89</td>\n",
       "    </tr>\n",
       "    <tr>\n",
       "      <th>1997-01-07</th>\n",
       "      <td>3.10</td>\n",
       "      <td>1327.73</td>\n",
       "      <td>5.33</td>\n",
       "      <td>5.02</td>\n",
       "      <td>6.57</td>\n",
       "      <td>19.35</td>\n",
       "    </tr>\n",
       "    <tr>\n",
       "      <th>1997-01-08</th>\n",
       "      <td>3.07</td>\n",
       "      <td>1320.35</td>\n",
       "      <td>5.31</td>\n",
       "      <td>5.02</td>\n",
       "      <td>6.60</td>\n",
       "      <td>20.24</td>\n",
       "    </tr>\n",
       "    <tr>\n",
       "      <th>...</th>\n",
       "      <td>...</td>\n",
       "      <td>...</td>\n",
       "      <td>...</td>\n",
       "      <td>...</td>\n",
       "      <td>...</td>\n",
       "      <td>...</td>\n",
       "    </tr>\n",
       "    <tr>\n",
       "      <th>2024-07-22</th>\n",
       "      <td>3.05</td>\n",
       "      <td>18007.57</td>\n",
       "      <td>5.29</td>\n",
       "      <td>5.19</td>\n",
       "      <td>4.26</td>\n",
       "      <td>14.91</td>\n",
       "    </tr>\n",
       "    <tr>\n",
       "      <th>2024-07-25</th>\n",
       "      <td>3.08</td>\n",
       "      <td>17181.72</td>\n",
       "      <td>5.32</td>\n",
       "      <td>5.17</td>\n",
       "      <td>4.27</td>\n",
       "      <td>18.46</td>\n",
       "    </tr>\n",
       "    <tr>\n",
       "      <th>2024-07-31</th>\n",
       "      <td>3.25</td>\n",
       "      <td>17599.40</td>\n",
       "      <td>5.30</td>\n",
       "      <td>5.15</td>\n",
       "      <td>4.09</td>\n",
       "      <td>16.36</td>\n",
       "    </tr>\n",
       "    <tr>\n",
       "      <th>2024-08-01</th>\n",
       "      <td>3.35</td>\n",
       "      <td>17194.15</td>\n",
       "      <td>5.19</td>\n",
       "      <td>5.12</td>\n",
       "      <td>3.99</td>\n",
       "      <td>18.59</td>\n",
       "    </tr>\n",
       "    <tr>\n",
       "      <th>2024-08-08</th>\n",
       "      <td>3.48</td>\n",
       "      <td>16660.02</td>\n",
       "      <td>5.16</td>\n",
       "      <td>5.09</td>\n",
       "      <td>3.99</td>\n",
       "      <td>23.79</td>\n",
       "    </tr>\n",
       "  </tbody>\n",
       "</table>\n",
       "<p>6449 rows × 6 columns</p>\n",
       "</div>"
      ],
      "text/plain": [
       "            High Yield Index OAS    NASDAQ  90-Day AA Fin CP  3-Month T-Bill  \\\n",
       "DATE                                                                           \n",
       "1997-01-02                  3.06   1280.70              5.35            5.05   \n",
       "1997-01-03                  3.09   1310.68              5.35            5.04   \n",
       "1997-01-06                  3.10   1316.40              5.34            5.05   \n",
       "1997-01-07                  3.10   1327.73              5.33            5.02   \n",
       "1997-01-08                  3.07   1320.35              5.31            5.02   \n",
       "...                          ...       ...               ...             ...   \n",
       "2024-07-22                  3.05  18007.57              5.29            5.19   \n",
       "2024-07-25                  3.08  17181.72              5.32            5.17   \n",
       "2024-07-31                  3.25  17599.40              5.30            5.15   \n",
       "2024-08-01                  3.35  17194.15              5.19            5.12   \n",
       "2024-08-08                  3.48  16660.02              5.16            5.09   \n",
       "\n",
       "            10-Year Treasury    VIX  \n",
       "DATE                                 \n",
       "1997-01-02              6.54  21.14  \n",
       "1997-01-03              6.52  19.13  \n",
       "1997-01-06              6.54  19.89  \n",
       "1997-01-07              6.57  19.35  \n",
       "1997-01-08              6.60  20.24  \n",
       "...                      ...    ...  \n",
       "2024-07-22              4.26  14.91  \n",
       "2024-07-25              4.27  18.46  \n",
       "2024-07-31              4.09  16.36  \n",
       "2024-08-01              3.99  18.59  \n",
       "2024-08-08              3.99  23.79  \n",
       "\n",
       "[6449 rows x 6 columns]"
      ]
     },
     "execution_count": 25,
     "metadata": {},
     "output_type": "execute_result"
    }
   ],
   "source": [
    "df.dropna()"
   ]
  },
  {
   "cell_type": "markdown",
   "metadata": {},
   "source": [
    "## Transforming and Normalizing the data\n",
    "\n",
    "What is transformation and normalization? Are these different things?\n",
    "\n",
    " - Why would one transform data? What is feature engineering?\n",
    " - What is normalization?\n",
    "\n",
    "What does stationarity mean? See the the following plots. Some of these variable are stationary. Other are not? Why is this a problem?"
   ]
  },
  {
   "cell_type": "code",
   "execution_count": 26,
   "metadata": {},
   "outputs": [
    {
     "data": {
      "text/plain": [
       "<Axes: xlabel='DATE'>"
      ]
     },
     "execution_count": 26,
     "metadata": {},
     "output_type": "execute_result"
    },
    {
     "data": {
      "image/png": "[encoded data removed]",
      "text/plain": [
       "<Figure size 640x480 with 1 Axes>"
      ]
     },
     "metadata": {},
     "output_type": "display_data"
    }
   ],
   "source": [
    "df.plot()"
   ]
  },
  {
   "cell_type": "code",
   "execution_count": null,
   "metadata": {},
   "outputs": [],
   "source": [
    "df.info()"
   ]
  },
  {
   "cell_type": "code",
   "execution_count": 27,
   "metadata": {},
   "outputs": [
    {
     "data": {
      "text/plain": [
       "<Axes: xlabel='DATE'>"
      ]
     },
     "execution_count": 27,
     "metadata": {},
     "output_type": "execute_result"
    },
    {
     "data": {
      "image/png": "[encoded data removed]",
      "text/plain": [
       "<Figure size 640x480 with 1 Axes>"
      ]
     },
     "metadata": {},
     "output_type": "display_data"
    }
   ],
   "source": [
    "df.drop(columns=['NASDAQ']).plot()"
   ]
  },
  {
   "cell_type": "markdown",
   "metadata": {},
   "source": [
    "Let's try some transformations like those used in the OFR Financial Stress Index: https://www.financialresearch.gov/financial-stress-index/files/indicators/index.html"
   ]
  },
  {
   "cell_type": "code",
   "execution_count": 28,
   "metadata": {},
   "outputs": [
    {
     "data": {
      "text/html": [
       "<div>\n",
       "<style scoped>\n",
       "    .dataframe tbody tr th:only-of-type {\n",
       "        vertical-align: middle;\n",
       "    }\n",
       "\n",
       "    .dataframe tbody tr th {\n",
       "        vertical-align: top;\n",
       "    }\n",
       "\n",
       "    .dataframe thead th {\n",
       "        text-align: right;\n",
       "    }\n",
       "</style>\n",
       "<table border=\"1\" class=\"dataframe\">\n",
       "  <thead>\n",
       "    <tr style=\"text-align: right;\">\n",
       "      <th></th>\n",
       "      <th>High Yield Index OAS</th>\n",
       "      <th>NASDAQ</th>\n",
       "      <th>90-Day AA Fin CP</th>\n",
       "      <th>3-Month T-Bill</th>\n",
       "      <th>10-Year Treasury</th>\n",
       "      <th>VIX</th>\n",
       "    </tr>\n",
       "    <tr>\n",
       "      <th>DATE</th>\n",
       "      <th></th>\n",
       "      <th></th>\n",
       "      <th></th>\n",
       "      <th></th>\n",
       "      <th></th>\n",
       "      <th></th>\n",
       "    </tr>\n",
       "  </thead>\n",
       "  <tbody>\n",
       "    <tr>\n",
       "      <th>1980-01-01</th>\n",
       "      <td>NaN</td>\n",
       "      <td>NaN</td>\n",
       "      <td>NaN</td>\n",
       "      <td>NaN</td>\n",
       "      <td>NaN</td>\n",
       "      <td>NaN</td>\n",
       "    </tr>\n",
       "    <tr>\n",
       "      <th>1980-01-02</th>\n",
       "      <td>NaN</td>\n",
       "      <td>NaN</td>\n",
       "      <td>NaN</td>\n",
       "      <td>NaN</td>\n",
       "      <td>NaN</td>\n",
       "      <td>NaN</td>\n",
       "    </tr>\n",
       "    <tr>\n",
       "      <th>1980-01-03</th>\n",
       "      <td>NaN</td>\n",
       "      <td>NaN</td>\n",
       "      <td>NaN</td>\n",
       "      <td>NaN</td>\n",
       "      <td>NaN</td>\n",
       "      <td>NaN</td>\n",
       "    </tr>\n",
       "    <tr>\n",
       "      <th>1980-01-04</th>\n",
       "      <td>NaN</td>\n",
       "      <td>NaN</td>\n",
       "      <td>NaN</td>\n",
       "      <td>NaN</td>\n",
       "      <td>NaN</td>\n",
       "      <td>NaN</td>\n",
       "    </tr>\n",
       "    <tr>\n",
       "      <th>1980-01-07</th>\n",
       "      <td>NaN</td>\n",
       "      <td>NaN</td>\n",
       "      <td>NaN</td>\n",
       "      <td>NaN</td>\n",
       "      <td>NaN</td>\n",
       "      <td>NaN</td>\n",
       "    </tr>\n",
       "    <tr>\n",
       "      <th>...</th>\n",
       "      <td>...</td>\n",
       "      <td>...</td>\n",
       "      <td>...</td>\n",
       "      <td>...</td>\n",
       "      <td>...</td>\n",
       "      <td>...</td>\n",
       "    </tr>\n",
       "    <tr>\n",
       "      <th>2024-08-02</th>\n",
       "      <td>NaN</td>\n",
       "      <td>NaN</td>\n",
       "      <td>NaN</td>\n",
       "      <td>NaN</td>\n",
       "      <td>NaN</td>\n",
       "      <td>NaN</td>\n",
       "    </tr>\n",
       "    <tr>\n",
       "      <th>2024-08-05</th>\n",
       "      <td>NaN</td>\n",
       "      <td>NaN</td>\n",
       "      <td>NaN</td>\n",
       "      <td>NaN</td>\n",
       "      <td>NaN</td>\n",
       "      <td>NaN</td>\n",
       "    </tr>\n",
       "    <tr>\n",
       "      <th>2024-08-06</th>\n",
       "      <td>NaN</td>\n",
       "      <td>NaN</td>\n",
       "      <td>NaN</td>\n",
       "      <td>NaN</td>\n",
       "      <td>NaN</td>\n",
       "      <td>NaN</td>\n",
       "    </tr>\n",
       "    <tr>\n",
       "      <th>2024-08-07</th>\n",
       "      <td>NaN</td>\n",
       "      <td>NaN</td>\n",
       "      <td>NaN</td>\n",
       "      <td>NaN</td>\n",
       "      <td>NaN</td>\n",
       "      <td>NaN</td>\n",
       "    </tr>\n",
       "    <tr>\n",
       "      <th>2024-08-08</th>\n",
       "      <td>NaN</td>\n",
       "      <td>NaN</td>\n",
       "      <td>NaN</td>\n",
       "      <td>NaN</td>\n",
       "      <td>NaN</td>\n",
       "      <td>NaN</td>\n",
       "    </tr>\n",
       "  </tbody>\n",
       "</table>\n",
       "<p>11731 rows × 6 columns</p>\n",
       "</div>"
      ],
      "text/plain": [
       "            High Yield Index OAS  NASDAQ  90-Day AA Fin CP  3-Month T-Bill  \\\n",
       "DATE                                                                         \n",
       "1980-01-01                   NaN     NaN               NaN             NaN   \n",
       "1980-01-02                   NaN     NaN               NaN             NaN   \n",
       "1980-01-03                   NaN     NaN               NaN             NaN   \n",
       "1980-01-04                   NaN     NaN               NaN             NaN   \n",
       "1980-01-07                   NaN     NaN               NaN             NaN   \n",
       "...                          ...     ...               ...             ...   \n",
       "2024-08-02                   NaN     NaN               NaN             NaN   \n",
       "2024-08-05                   NaN     NaN               NaN             NaN   \n",
       "2024-08-06                   NaN     NaN               NaN             NaN   \n",
       "2024-08-07                   NaN     NaN               NaN             NaN   \n",
       "2024-08-08                   NaN     NaN               NaN             NaN   \n",
       "\n",
       "            10-Year Treasury  VIX  \n",
       "DATE                               \n",
       "1980-01-01               NaN  NaN  \n",
       "1980-01-02               NaN  NaN  \n",
       "1980-01-03               NaN  NaN  \n",
       "1980-01-04               NaN  NaN  \n",
       "1980-01-07               NaN  NaN  \n",
       "...                      ...  ...  \n",
       "2024-08-02               NaN  NaN  \n",
       "2024-08-05               NaN  NaN  \n",
       "2024-08-06               NaN  NaN  \n",
       "2024-08-07               NaN  NaN  \n",
       "2024-08-08               NaN  NaN  \n",
       "\n",
       "[11731 rows x 6 columns]"
      ]
     },
     "execution_count": 28,
     "metadata": {},
     "output_type": "execute_result"
    }
   ],
   "source": [
    "dfn = pd.DataFrame().reindex_like(df) #index like df but the content is nan\n",
    "dfn"
   ]
  },
  {
   "cell_type": "code",
   "execution_count": 29,
   "metadata": {},
   "outputs": [
    {
     "data": {
      "text/plain": [
       "DATE\n",
       "1980-01-01   NaN\n",
       "1980-01-02   NaN\n",
       "1980-01-03   NaN\n",
       "1980-01-04   NaN\n",
       "1980-01-07   NaN\n",
       "              ..\n",
       "2024-08-02   NaN\n",
       "2024-08-05   NaN\n",
       "2024-08-06   NaN\n",
       "2024-08-07   NaN\n",
       "2024-08-08   NaN\n",
       "Name: NASDAQ, Length: 11731, dtype: float64"
      ]
     },
     "execution_count": 29,
     "metadata": {},
     "output_type": "execute_result"
    }
   ],
   "source": [
    "df['NASDAQ'].rolling(250).mean()"
   ]
  },
  {
   "cell_type": "code",
   "execution_count": 30,
   "metadata": {},
   "outputs": [],
   "source": [
    "df = df.dropna()"
   ]
  },
  {
   "cell_type": "code",
   "execution_count": 31,
   "metadata": {},
   "outputs": [
    {
     "data": {
      "text/plain": [
       "DATE\n",
       "1997-01-02            NaN\n",
       "1997-01-03            NaN\n",
       "1997-01-06            NaN\n",
       "1997-01-07            NaN\n",
       "1997-01-08            NaN\n",
       "                 ...     \n",
       "2024-07-22    13564.74956\n",
       "2024-07-25    13590.21472\n",
       "2024-07-31    13615.90668\n",
       "2024-08-01    13640.08872\n",
       "2024-08-08    13662.43556\n",
       "Name: NASDAQ, Length: 6449, dtype: float64"
      ]
     },
     "execution_count": 31,
     "metadata": {},
     "output_type": "execute_result"
    }
   ],
   "source": [
    "df['NASDAQ'].rolling(250).mean()"
   ]
  },
  {
   "cell_type": "code",
   "execution_count": 32,
   "metadata": {},
   "outputs": [],
   "source": [
    "# 'High Yield Index OAS': Leave as is\n",
    "# !!! stationeries process\n",
    "# !!!对nasdaq进行np.log是因为如果不log的话数据波动很大\n",
    "# for PCA, colinear没关系的！！\n",
    "dfn['High Yield Index OAS'] = df['High Yield Index OAS']\n",
    "dfn['CP - Treasury Spread, 3m'] = df['90-Day AA Fin CP'] - df['3-Month T-Bill']\n",
    "# 'NASDAQ':  # We're using something different, but still apply rolling mean transformation\n",
    "dfn['NASDAQ'] = np.log(df['NASDAQ']) - np.log(df['NASDAQ'].rolling(250).mean())\n",
    "dfn['10-Year Treasury'] = df['10-Year Treasury'] - df['10-Year Treasury'].rolling(250).mean()\n",
    "# 'VIX': Leave as is\n",
    "dfn['VIX'] = df['VIX']"
   ]
  },
  {
   "cell_type": "code",
   "execution_count": 33,
   "metadata": {},
   "outputs": [],
   "source": [
    "dfn = dfn.drop(columns=['90-Day AA Fin CP', '3-Month T-Bill'])\n",
    "dfn = dfn.dropna()"
   ]
  },
  {
   "cell_type": "code",
   "execution_count": 34,
   "metadata": {},
   "outputs": [
    {
     "name": "stdout",
     "output_type": "stream",
     "text": [
      "<class 'pandas.core.frame.DataFrame'>\n",
      "DatetimeIndex: 6200 entries, 1998-01-05 to 2024-08-08\n",
      "Data columns (total 5 columns):\n",
      " #   Column                    Non-Null Count  Dtype  \n",
      "---  ------                    --------------  -----  \n",
      " 0   High Yield Index OAS      6200 non-null   float64\n",
      " 1   NASDAQ                    6200 non-null   float64\n",
      " 2   10-Year Treasury          6200 non-null   float64\n",
      " 3   VIX                       6200 non-null   float64\n",
      " 4   CP - Treasury Spread, 3m  6200 non-null   float64\n",
      "dtypes: float64(5)\n",
      "memory usage: 290.6 KB\n"
     ]
    }
   ],
   "source": [
    "dfn.info()"
   ]
  },
  {
   "cell_type": "markdown",
   "metadata": {},
   "source": [
    "We finished with our transformations. Now, let's normalize. First, why is it important?"
   ]
  },
  {
   "cell_type": "code",
   "execution_count": 35,
   "metadata": {},
   "outputs": [
    {
     "data": {
      "text/plain": [
       "<Axes: xlabel='DATE'>"
      ]
     },
     "execution_count": 35,
     "metadata": {},
     "output_type": "execute_result"
    },
    {
     "data": {
      "image/png": "[encoded data removed]",
      "text/plain": [
       "<Figure size 640x480 with 1 Axes>"
      ]
     },
     "metadata": {},
     "output_type": "display_data"
    }
   ],
   "source": [
    "dfn.plot()"
   ]
  },
  {
   "cell_type": "markdown",
   "metadata": {},
   "source": [
    "Now, normalize each column,\n",
    "$$\n",
    "z = \\frac{x - \\bar x}{\\text{std}(x)}\n",
    "$$"
   ]
  },
  {
   "cell_type": "code",
   "execution_count": 36,
   "metadata": {},
   "outputs": [],
   "source": [
    "dfn = (dfn - dfn.mean()) / dfn.std()"
   ]
  },
  {
   "cell_type": "code",
   "execution_count": 37,
   "metadata": {},
   "outputs": [
    {
     "data": {
      "text/plain": [
       "<Axes: xlabel='DATE'>"
      ]
     },
     "execution_count": 37,
     "metadata": {},
     "output_type": "execute_result"
    },
    {
     "data": {
      "image/png": "[encoded data removed]",
      "text/plain": [
       "<Figure size 640x480 with 1 Axes>"
      ]
     },
     "metadata": {},
     "output_type": "display_data"
    }
   ],
   "source": [
    "dfn.plot()"
   ]
  },
  {
   "cell_type": "code",
   "execution_count": null,
   "metadata": {},
   "outputs": [],
   "source": [
    "def pca(dfn, module='scikitlearn'):\n",
    "    if module == 'statsmodels':\n",
    "        _pc1, _loadings, projection, rsquare, _, _, _ = statsmodels.multivariate.pca.pca(dfn,\n",
    "            ncomp=1, standardize=True, demean=True, normalize=True, gls=False,\n",
    "            weights=None, method='svd')\n",
    "        _loadings = _loadings['comp_0']\n",
    "        loadings = np.std(_pc1) * _loadings\n",
    "        pc1 = _pc1 / np.std(_pc1)\n",
    "        pc1 = pc1.rename(columns={'comp_0':'PC1'})['PC1']\n",
    "\n",
    "    elif module == 'scikitlearn':\n",
    "        pca = sklearn.decomposition.PCA(n_components=1)\n",
    "        _pc1 = pd.Series(pca.fit_transform(dfn)[:,0], index=dfn.index, name='PC1')\n",
    "        _loadings = pca.components_.T * np.sqrt(pca.explained_variance_)\n",
    "        _loadings = pd.Series(_loadings[:,0], index=dfn.columns)\n",
    "\n",
    "        loadings = np.std(_pc1) * _loadings\n",
    "        pc1 = _pc1 / np.std(_pc1)\n",
    "        pc1.name = 'PC1'\n",
    "    else:\n",
    "        raise ValueError\n",
    "\n",
    "\n",
    "\n",
    "    loadings.name = \"loadings\"\n",
    "\n",
    "    return pc1, loadings\n",
    "\n",
    "def stacked_plot(df, filename=None):\n",
    "    \"\"\"\n",
    "    df=category_contributions\n",
    "    # category_contributions.sum(axis=1).plot()\n",
    "    \"\"\"\n",
    "\n",
    "    df_pos = df[df >= 0]\n",
    "    df_neg = df[df < 0]\n",
    "\n",
    "    alpha = .3\n",
    "    linewidth = .5\n",
    "\n",
    "    ax = df_pos.plot.area(alpha=alpha, linewidth=linewidth, legend=False)\n",
    "    pc1 = df.sum(axis=1)\n",
    "    pc1.name = 'pc1'\n",
    "    pc1.plot(color=\"Black\", label='pc1', linewidth=1)\n",
    "\n",
    "\n",
    "    plt.legend()\n",
    "    ax.set_prop_cycle(None)\n",
    "    df_neg.plot.area(alpha=alpha, ax=ax, linewidth=linewidth, legend=False, ylim=(-3,3))\n",
    "    # recompute the ax.dataLim\n",
    "    ax.relim()\n",
    "    # update ax.viewLim using the new dataLim\n",
    "    ax.autoscale()\n",
    "    # ax.set_ylabel('Standard Deviations')\n",
    "    # ax.set_ylim(-3,4)\n",
    "    # ax.set_ylim(-30,30)\n",
    "\n",
    "    if not (filename is None):\n",
    "        filename = Path(filename)\n",
    "        figure = plt.gcf() # get current figure\n",
    "        figure.set_size_inches(8, 6)\n",
    "        plt.savefig(filename, dpi=300)\n"
   ]
  },
  {
   "cell_type": "code",
   "execution_count": null,
   "metadata": {},
   "outputs": [],
   "source": [
    "pc1, loadings = pca(dfn, module='scikitlearn')"
   ]
  },
  {
   "cell_type": "code",
   "execution_count": null,
   "metadata": {},
   "outputs": [],
   "source": [
    "pc1.plot()"
   ]
  },
  {
   "cell_type": "code",
   "execution_count": null,
   "metadata": {},
   "outputs": [],
   "source": [
    "stacked_plot(dfn)"
   ]
  },
  {
   "cell_type": "markdown",
   "metadata": {},
   "source": [
    "Let's compare solutions from two different packages"
   ]
  },
  {
   "cell_type": "code",
   "execution_count": null,
   "metadata": {},
   "outputs": [],
   "source": [
    "def root_mean_squared_error(sa, sb):\n",
    "    return np.sqrt(np.mean((sa - sb)**2))\n",
    "\n",
    "pc1_sk, loadings_sk = pca(dfn, module='scikitlearn')\n",
    "pc1_sm, loadings_sm = pca(dfn, module='statsmodels')\n",
    "root_mean_squared_error(pc1_sm, pc1_sk)"
   ]
  },
  {
   "cell_type": "markdown",
   "metadata": {},
   "source": [
    "## Factor Analysis of a Panel of Stock Returns?"
   ]
  },
  {
   "cell_type": "code",
   "execution_count": null,
   "metadata": {},
   "outputs": [],
   "source": [
    "sample = yf.download(\"SPY AAPL MSFT\", start=\"2017-01-01\", end=\"2017-04-30\")"
   ]
  },
  {
   "cell_type": "code",
   "execution_count": null,
   "metadata": {},
   "outputs": [],
   "source": [
    "sample"
   ]
  },
  {
   "cell_type": "code",
   "execution_count": null,
   "metadata": {},
   "outputs": [],
   "source": [
    "sample['Adj Close']"
   ]
  },
  {
   "cell_type": "code",
   "execution_count": null,
   "metadata": {},
   "outputs": [],
   "source": [
    "tickers = [\n",
    "    'AAPL','ABBV','ABT','ACN','ADP','ADSK','AES','AET','AFL','AMAT','AMGN','AMZN','APA',\n",
    "    'APHA','APD','APTV','ARE','ASML','ATVI','AXP','BA','BAC','BAX','BDX','BIIB','BK',\n",
    "    'BKNG','BMY','BRKB','BRK.A','COG','COST','CPB','CRM','CSCO','CVS','DAL','DD','DHR',\n",
    "    'DIS','DOW','DUK','EMR','EPD','EQT','ESRT','EXPD','FFIV','FLS','FLT','FRT','GE',\n",
    "    'GILD','GOOGL','GOOG','GS','HAL','HD','HON','IBM','INTC','IP','JNJ','JPM','KEY',\n",
    "    'KHC','KIM','KO','LLY','LMT','LOW','MCD','MCHP','MDT','MMM','MO','MRK','MSFT',\n",
    "    'MTD','NEE','NFLX','NKE','NOV','ORCL','OXY','PEP','PFE','PG','RTN','RTX','SBUX',\n",
    "    'SHW','SLB','SO','SPG','STT','T','TGT','TXN','UNH','UPS','USB','UTX','V','VZ',\n",
    "    'WMT','XOM',\n",
    "]"
   ]
  },
  {
   "cell_type": "code",
   "execution_count": null,
   "metadata": {},
   "outputs": [],
   "source": [
    "\" \".join(tickers)"
   ]
  },
  {
   "cell_type": "code",
   "execution_count": null,
   "metadata": {},
   "outputs": [],
   "source": [
    "data = yf.download(\" \".join(tickers), start=\"1980-01-01\", end=\"2024-08-01\", progress=False)"
   ]
  },
  {
   "cell_type": "code",
   "execution_count": null,
   "metadata": {},
   "outputs": [],
   "source": [
    "data['Adj Close']['AAPL'].plot()"
   ]
  },
  {
   "cell_type": "code",
   "execution_count": null,
   "metadata": {},
   "outputs": [],
   "source": [
    "cols_with_many_nas = [\n",
    "    \"BRK.A\",\n",
    "    \"APHA\",\n",
    "    \"UTX\",\n",
    "    \"RTN\",\n",
    "    \"COG\",\n",
    "    \"BRKB\",\n",
    "    \"ATVI\",\n",
    "    \"FLT\",\n",
    "    \"DOW\",\n",
    "    \"KHC\",\n",
    "    \"V\",\n",
    "    \"APTV\",\n",
    "    \"ABBV\",\n",
    "    \"ESRT\",\n",
    "]\n",
    "df = data['Adj Close']\n",
    "df = df.drop(columns=cols_with_many_nas).dropna().pct_change().dropna()\n"
   ]
  },
  {
   "cell_type": "code",
   "execution_count": null,
   "metadata": {},
   "outputs": [],
   "source": [
    "df.columns"
   ]
  },
  {
   "cell_type": "code",
   "execution_count": null,
   "metadata": {},
   "outputs": [],
   "source": [
    "df['AAPL'].plot()"
   ]
  },
  {
   "cell_type": "code",
   "execution_count": null,
   "metadata": {},
   "outputs": [],
   "source": [
    "pc1, loadings = pca(df, module='scikitlearn')"
   ]
  },
  {
   "cell_type": "code",
   "execution_count": null,
   "metadata": {},
   "outputs": [],
   "source": [
    "pc1.plot()"
   ]
  },
  {
   "cell_type": "code",
   "execution_count": null,
   "metadata": {},
   "outputs": [],
   "source": [
    "pc1.cumsum().plot()"
   ]
  }
 ],
 "metadata": {
  "kernelspec": {
   "display_name": "base",
   "language": "python",
   "name": "python3"
  },
  "language_info": {
   "codemirror_mode": {
    "name": "ipython",
    "version": 3
   },
   "file_extension": ".py",
   "mimetype": "text/x-python",
   "name": "python",
   "nbconvert_exporter": "python",
   "pygments_lexer": "ipython3",
   "version": "3.10.14"
  }
 },
 "nbformat": 4,
 "nbformat_minor": 2
}
